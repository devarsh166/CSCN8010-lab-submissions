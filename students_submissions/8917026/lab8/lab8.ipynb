{
 "cells": [
  {
   "cell_type": "markdown",
   "metadata": {},
   "source": [
    "# <center>Practical Lab 8 - Dot Product and Matrix Multiplication in PyTorch and Tensorflow</center>\n",
    "\n",
    "### Name: Devarsh Shah\n",
    "### ID: 8917026\n",
    "---"
   ]
  },
  {
   "cell_type": "markdown",
   "metadata": {},
   "source": [
    "Using PyTorch:\n",
    "- Calculate the dot product between two vectors each of length 3 (1.5 points)\n",
    "- Calculate the matrix multiplication of two 2-dimensional matrices, each with a size of (2,2) (1.5 points)"
   ]
  },
  {
   "cell_type": "code",
   "execution_count": 4,
   "metadata": {},
   "outputs": [
    {
     "name": "stdout",
     "output_type": "stream",
     "text": [
      "Dot Product (Using PyTorch):\n",
      "  tensor(32)\n",
      "\n",
      "\n",
      "Matrix Multiplication (Using PyTorch): \n",
      " tensor([[19, 22],\n",
      "        [43, 50]])\n"
     ]
    }
   ],
   "source": [
    "import torch\n",
    "\n",
    "# Define two vectors\n",
    "vec_a = torch.tensor([1, 2, 3])\n",
    "vec_b = torch.tensor([4, 5, 6])\n",
    "\n",
    "# Calculate the dot product\n",
    "dot_product = torch.dot(vec_a, vec_b)\n",
    "print(\"Dot Product (Using PyTorch):\\n \", dot_product)\n",
    "\n",
    "# Define two matrices\n",
    "mat_a = torch.tensor([[1, 2], [3, 4]])\n",
    "mat_b = torch.tensor([[5, 6], [7, 8]])\n",
    "\n",
    "# Matrix multiplication\n",
    "matrix_product = torch.mm(mat_a, mat_b)\n",
    "print(\"\\n\\nMatrix Multiplication (Using PyTorch): \\n\", matrix_product)"
   ]
  },
  {
   "cell_type": "markdown",
   "metadata": {},
   "source": [
    "Using Tensorflow:\n",
    "- Calculate the dot product between the same vectors as above (re-define them in Tensorflow) (1.5 points)\n",
    "- Calculate the matrix multiplication of the same matrics as above (re-define them in Tensorflow) (1.5 points)"
   ]
  },
  {
   "cell_type": "code",
   "execution_count": 1,
   "metadata": {},
   "outputs": [
    {
     "name": "stdout",
     "output_type": "stream",
     "text": [
      "Dot Product (Using TensorFlow):\n",
      " 32\n",
      "\n",
      "\n",
      "Matrix Multiplication (Using TensorFlow):\n",
      " [[19 22]\n",
      " [43 50]]\n"
     ]
    }
   ],
   "source": [
    "import tensorflow as tf\n",
    "\n",
    "# Define the same vectors in TensorFlow\n",
    "vec_a_tf = tf.constant([1, 2, 3])\n",
    "vec_b_tf = tf.constant([4, 5, 6])\n",
    "\n",
    "# Calculate the dot product in TensorFlow\n",
    "dot_product_tf = tf.tensordot(vec_a_tf, vec_b_tf, axes=1)\n",
    "print(\"Dot Product (Using TensorFlow):\\n\", dot_product_tf.numpy())\n",
    "\n",
    "# Define the same matrices in TensorFlow\n",
    "mat_a_tf = tf.constant([[1, 2], [3, 4]])\n",
    "mat_b_tf = tf.constant([[5, 6], [7, 8]])\n",
    "\n",
    "# Matrix multiplication in TensorFlow\n",
    "matrix_product_tf = tf.matmul(mat_a_tf, mat_b_tf)\n",
    "print(\"\\n\\nMatrix Multiplication (Using TensorFlow):\\n\", matrix_product_tf.numpy())"
   ]
  }
 ],
 "metadata": {
  "kernelspec": {
   "display_name": "tensorflow_cpu",
   "language": "python",
   "name": "tensorflow_cpu"
  },
  "language_info": {
   "codemirror_mode": {
    "name": "ipython",
    "version": 3
   },
   "file_extension": ".py",
   "mimetype": "text/x-python",
   "name": "python",
   "nbconvert_exporter": "python",
   "pygments_lexer": "ipython3",
   "version": "3.11.5"
  }
 },
 "nbformat": 4,
 "nbformat_minor": 2
}
