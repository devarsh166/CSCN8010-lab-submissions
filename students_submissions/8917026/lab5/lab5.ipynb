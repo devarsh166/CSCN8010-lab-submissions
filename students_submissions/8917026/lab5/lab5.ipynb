{
 "cells": [
  {
   "cell_type": "markdown",
   "metadata": {},
   "source": [
    "## Student Name: **Devarsh Sandip Shah** \n",
    "# Student ID: **8917026**\n",
    "### Practical Lab-5\n",
    "---"
   ]
  },
  {
   "cell_type": "code",
   "execution_count": 25,
   "metadata": {},
   "outputs": [],
   "source": [
    "# Importing the necessary libraries\n",
    "import numpy as np\n",
    "from sklearn import datasets\n",
    "from sklearn.model_selection import cross_val_score, train_test_split\n",
    "from sklearn.linear_model import LinearRegression\n",
    "from sklearn.preprocessing import PolynomialFeatures\n",
    "from sklearn.metrics import make_scorer, mean_absolute_error,mean_absolute_percentage_error\n",
    "import matplotlib.pyplot as plt\n"
   ]
  },
  {
   "cell_type": "markdown",
   "metadata": {},
   "source": [
    "# Loading the datasets"
   ]
  },
  {
   "cell_type": "code",
   "execution_count": 22,
   "metadata": {},
   "outputs": [
    {
     "data": {
      "text/html": [
       "<div>\n",
       "<style scoped>\n",
       "    .dataframe tbody tr th:only-of-type {\n",
       "        vertical-align: middle;\n",
       "    }\n",
       "\n",
       "    .dataframe tbody tr th {\n",
       "        vertical-align: top;\n",
       "    }\n",
       "\n",
       "    .dataframe thead th {\n",
       "        text-align: right;\n",
       "    }\n",
       "</style>\n",
       "<table border=\"1\" class=\"dataframe\">\n",
       "  <thead>\n",
       "    <tr style=\"text-align: right;\">\n",
       "      <th></th>\n",
       "      <th>age</th>\n",
       "      <th>sex</th>\n",
       "      <th>bmi</th>\n",
       "      <th>bp</th>\n",
       "      <th>s1</th>\n",
       "      <th>s2</th>\n",
       "      <th>s3</th>\n",
       "      <th>s4</th>\n",
       "      <th>s5</th>\n",
       "      <th>s6</th>\n",
       "    </tr>\n",
       "  </thead>\n",
       "  <tbody>\n",
       "    <tr>\n",
       "      <th>0</th>\n",
       "      <td>59.0</td>\n",
       "      <td>2.0</td>\n",
       "      <td>32.1</td>\n",
       "      <td>101.0</td>\n",
       "      <td>157.0</td>\n",
       "      <td>93.2</td>\n",
       "      <td>38.0</td>\n",
       "      <td>4.0</td>\n",
       "      <td>4.8598</td>\n",
       "      <td>87.0</td>\n",
       "    </tr>\n",
       "    <tr>\n",
       "      <th>1</th>\n",
       "      <td>48.0</td>\n",
       "      <td>1.0</td>\n",
       "      <td>21.6</td>\n",
       "      <td>87.0</td>\n",
       "      <td>183.0</td>\n",
       "      <td>103.2</td>\n",
       "      <td>70.0</td>\n",
       "      <td>3.0</td>\n",
       "      <td>3.8918</td>\n",
       "      <td>69.0</td>\n",
       "    </tr>\n",
       "    <tr>\n",
       "      <th>2</th>\n",
       "      <td>72.0</td>\n",
       "      <td>2.0</td>\n",
       "      <td>30.5</td>\n",
       "      <td>93.0</td>\n",
       "      <td>156.0</td>\n",
       "      <td>93.6</td>\n",
       "      <td>41.0</td>\n",
       "      <td>4.0</td>\n",
       "      <td>4.6728</td>\n",
       "      <td>85.0</td>\n",
       "    </tr>\n",
       "    <tr>\n",
       "      <th>3</th>\n",
       "      <td>24.0</td>\n",
       "      <td>1.0</td>\n",
       "      <td>25.3</td>\n",
       "      <td>84.0</td>\n",
       "      <td>198.0</td>\n",
       "      <td>131.4</td>\n",
       "      <td>40.0</td>\n",
       "      <td>5.0</td>\n",
       "      <td>4.8903</td>\n",
       "      <td>89.0</td>\n",
       "    </tr>\n",
       "    <tr>\n",
       "      <th>4</th>\n",
       "      <td>50.0</td>\n",
       "      <td>1.0</td>\n",
       "      <td>23.0</td>\n",
       "      <td>101.0</td>\n",
       "      <td>192.0</td>\n",
       "      <td>125.4</td>\n",
       "      <td>52.0</td>\n",
       "      <td>4.0</td>\n",
       "      <td>4.2905</td>\n",
       "      <td>80.0</td>\n",
       "    </tr>\n",
       "  </tbody>\n",
       "</table>\n",
       "</div>"
      ],
      "text/plain": [
       "    age  sex   bmi     bp     s1     s2    s3   s4      s5    s6\n",
       "0  59.0  2.0  32.1  101.0  157.0   93.2  38.0  4.0  4.8598  87.0\n",
       "1  48.0  1.0  21.6   87.0  183.0  103.2  70.0  3.0  3.8918  69.0\n",
       "2  72.0  2.0  30.5   93.0  156.0   93.6  41.0  4.0  4.6728  85.0\n",
       "3  24.0  1.0  25.3   84.0  198.0  131.4  40.0  5.0  4.8903  89.0\n",
       "4  50.0  1.0  23.0  101.0  192.0  125.4  52.0  4.0  4.2905  80.0"
      ]
     },
     "execution_count": 22,
     "metadata": {},
     "output_type": "execute_result"
    }
   ],
   "source": [
    "#Here X is independent variable dataframe and y is target variable Series.\n",
    "X, y = datasets.load_diabetes(as_frame=True, scaled=False, return_X_y=True)\n",
    "X.head() "
   ]
  },
  {
   "cell_type": "code",
   "execution_count": 23,
   "metadata": {},
   "outputs": [
    {
     "name": "stdout",
     "output_type": "stream",
     "text": [
      "0    151.0\n",
      "1     75.0\n",
      "2    141.0\n",
      "3    206.0\n",
      "4    135.0\n",
      "Name: target, dtype: float64\n",
      "(442, 10)\n"
     ]
    }
   ],
   "source": [
    "print(y.head())\n",
    "print(X.shape) #Total 442 rows and 10 independent variables are there."
   ]
  },
  {
   "cell_type": "markdown",
   "metadata": {},
   "source": [
    "## 1. Get the data, and run a train-validation-test split"
   ]
  },
  {
   "cell_type": "code",
   "execution_count": 24,
   "metadata": {},
   "outputs": [],
   "source": [
    "X_train, X_test, y_train, y_test = train_test_split(X, y, test_size=0.2, random_state=26)"
   ]
  },
  {
   "cell_type": "code",
   "execution_count": 26,
   "metadata": {},
   "outputs": [],
   "source": [
    "mae_scores = []\n",
    "mape_scores = []\n",
    "r_squared_scores = []\n",
    "\n",
    "for degree in range(0,9):\n",
    "    poly_features = PolynomialFeatures(degree=degree)\n",
    "    \n",
    "    X_train_poly = poly_features.fit_transform(X_train)\n",
    "    \n",
    "    model = LinearRegression()\n",
    "    \n",
    "    mae = cross_val_score(model, X_train_poly, y_train, cv=5, scoring=make_scorer(mean_absolute_error))\n",
    "    r_squared = cross_val_score(model, X_train_poly, y_train, cv=5, scoring='r2')\n",
    "    mape = cross_val_score(model, X_train_poly, y_train, cv=5, scoring=make_scorer(mean_absolute_percentage_error))\n",
    "    \n",
    "    mae_scores.append(np.mean(mae))\n",
    "    r_squared_scores.append(np.mean(r_squared))\n",
    "    mape_scores.append(np.mean(mape))"
   ]
  },
  {
   "cell_type": "code",
   "execution_count": 29,
   "metadata": {},
   "outputs": [
    {
     "data": {
      "image/png": "[encoded data removed]",
      "text/plain": [
       "<Figure size 1000x600 with 1 Axes>"
      ]
     },
     "metadata": {},
     "output_type": "display_data"
    },
    {
     "name": "stdout",
     "output_type": "stream",
     "text": [
      "Polynomial Degree which has lowest MAE is : 1\n"
     ]
    }
   ],
   "source": [
    "degrees = list(range(0,9)) \n",
    "\n",
    "plt.figure(figsize=(10, 6))\n",
    "plt.plot(degrees, mae_scores, marker='x', linestyle='-', color='r')\n",
    "plt.xlabel('Polynomial Degree')\n",
    "plt.ylabel('Mean Absolute Error (MAE)')\n",
    "plt.title('Cross-Validation MAE vs. Polynomial Degree')\n",
    "plt.grid(True)\n",
    "plt.show()\n",
    "\n",
    "\n",
    "\n",
    "best_degree = degrees[np.argmin(mae_scores)]\n",
    "print(f\"Polynomial Degree which has lowest MAE is : {best_degree}\")"
   ]
  },
  {
   "cell_type": "code",
   "execution_count": 27,
   "metadata": {},
   "outputs": [
    {
     "name": "stdout",
     "output_type": "stream",
     "text": [
      "Collecting tabulate\n",
      "  Downloading tabulate-0.9.0-py3-none-any.whl (35 kB)\n",
      "Installing collected packages: tabulate\n",
      "Successfully installed tabulate-0.9.0\n"
     ]
    }
   ],
   "source": [
    "!pip install tabulate"
   ]
  },
  {
   "cell_type": "markdown",
   "metadata": {},
   "source": [
    "# 2. Construct a table summarizing the cross-validation results. "
   ]
  },
  {
   "cell_type": "code",
   "execution_count": 39,
   "metadata": {},
   "outputs": [
    {
     "name": "stdout",
     "output_type": "stream",
     "text": [
      "+----+---------------------+----------------------+--------------------+----------+\n",
      "|    | Polynomial Degree   | R-squared (R²)       | MAE                |     MAPE |\n",
      "+====+=====================+======================+====================+==========+\n",
      "|  0 | 0                   | -0.03119889941245373 | 67.8159520741218   | 0.641772 |\n",
      "+----+---------------------+----------------------+--------------------+----------+\n",
      "|  1 | 1                   | 0.4778410043781601   | 45.05585646391783  | 0.405348 |\n",
      "+----+---------------------+----------------------+--------------------+----------+\n",
      "|  2 | 2                   | -0.5176064641497732  | 70.6415274655747   | 0.579094 |\n",
      "+----+---------------------+----------------------+--------------------+----------+\n",
      "|  3 | 3                   | -4525.6982758136255  | 1367.786709001828  | 9.5036   |\n",
      "+----+---------------------+----------------------+--------------------+----------+\n",
      "|  4 | 4                   | -327.0637054740647   | 527.3328176303596  | 4.33957  |\n",
      "+----+---------------------+----------------------+--------------------+----------+\n",
      "|  5 | 5                   | -253.24877578954388  | 450.09095978470776 | 3.61865  |\n",
      "+----+---------------------+----------------------+--------------------+----------+\n",
      "|  6 | 6                   | -584.0063025228199   | 549.0809933309549  | 4.30252  |\n",
      "+----+---------------------+----------------------+--------------------+----------+\n",
      "|  7 | 7                   | -2312.497934839118   | 788.472850700265   | 6.25154  |\n",
      "+----+---------------------+----------------------+--------------------+----------+\n",
      "|  8 | 8                   | -9906.459295189203   | 1174.3940803255664 | 9.89656  |\n",
      "+----+---------------------+----------------------+--------------------+----------+\n",
      "|  9 | Mean ± Std          | -1989.89 ± 3141.88   | 560.07 ± 452.44    | 4        |\n",
      "+----+---------------------+----------------------+--------------------+----------+\n"
     ]
    }
   ],
   "source": [
    "from tabulate import tabulate\n",
    "\n",
    "data=[]\n",
    "\n",
    "mean_std_r_squared = [f'{np.mean(r_squared_scores):.2f} ± {np.std(r_squared_scores):.2f}']\n",
    "mean_std_mae = [f'{np.mean(mae_scores):.2f} ± {np.std(mae_scores):.2f}']\n",
    "mean_std_mape = f'{np.mean(mape_scores):.2f} ± {np.std(mape_scores):.2f}'\n",
    "\n",
    "for degree, r_squared, mae, mape in zip(degrees, r_squared_scores, mae_scores, mape_scores):\n",
    "    data.append([degree,r_squared,mae,mape])\n",
    "\n",
    "data.append([\"Mean ± Std\", mean_std_r_squared[0], mean_std_mae[0], mean_std_mape[0]])\n",
    "\n",
    "print(tabulate(data, headers=[\"Polynomial Degree\", \"R-squared (R²)\", \"MAE\", \"MAPE\"], tablefmt=\"grid\", showindex=\"always\"))\n",
    "\n",
    "\n"
   ]
  },
  {
   "cell_type": "markdown",
   "metadata": {},
   "source": [
    "# 3. Identification of the Best Model: "
   ]
  },
  {
   "cell_type": "markdown",
   "metadata": {},
   "source": [
    "=> Looking at the table One can see that the one with Polynomial degree 1 has the lowest MAE and highest R-squared values: So it indicates lowest error and best fit than other degree models. "
   ]
  },
  {
   "cell_type": "markdown",
   "metadata": {},
   "source": [
    "# 4. Additional analysis and interpretation of the models' performances. "
   ]
  },
  {
   "cell_type": "markdown",
   "metadata": {},
   "source": [
    "- The choice of polynomial degree is crucial. A degree of 1 (linear regression) seems to be the best fit for this dataset, as it provides the highest R-squared and lowest MAE. \n",
    "- **Higher-degree polynomials result in overfitting, as indicated by the significantly negative R-squared values for degrees 2 to 8.**\n",
    "- Higher-degree polynomial models are more complex, but that doesn't necessarily lead to better performance. In fact, in this case, it leads to significantly worse performance, as indicated by the negative R-squared values.\n",
    "- I might also want to consider MAPE. It measures the percentage error in predictions. For the polynomial degree 1 model, the MAPE is relatively low, indicating that it is a good choice for making predictions."
   ]
  }
 ],
 "metadata": {
  "kernelspec": {
   "display_name": "CSCN8010_classic_ml",
   "language": "python",
   "name": "cscn8010_classic_ml"
  },
  "language_info": {
   "codemirror_mode": {
    "name": "ipython",
    "version": 3
   },
   "file_extension": ".py",
   "mimetype": "text/x-python",
   "name": "python",
   "nbconvert_exporter": "python",
   "pygments_lexer": "ipython3",
   "version": "3.11.5"
  }
 },
 "nbformat": 4,
 "nbformat_minor": 2
}
