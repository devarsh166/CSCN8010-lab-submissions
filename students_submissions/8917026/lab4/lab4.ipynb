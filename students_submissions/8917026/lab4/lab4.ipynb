{
 "cells": [
  {
   "cell_type": "markdown",
   "metadata": {},
   "source": [
    "## Student Name: **Devarsh Sandip Shah** \n",
    "# Student ID: **8917026**\n",
    "### Practical Lab-4\n",
    "---"
   ]
  },
  {
   "cell_type": "code",
   "execution_count": 1,
   "metadata": {},
   "outputs": [],
   "source": [
    "# Importing the necessary libraries\n",
    "import numpy as np\n",
    "import matplotlib.pyplot as plt\n",
    "import seaborn as sns\n",
    "from sklearn import datasets\n",
    "from sklearn.model_selection import train_test_split\n",
    "from sklearn.linear_model import LinearRegression\n",
    "from sklearn.preprocessing import PolynomialFeatures\n",
    "from sklearn.pipeline import Pipeline\n",
    "from sklearn.metrics import mean_absolute_error , mean_absolute_percentage_error , r2_score"
   ]
  },
  {
   "cell_type": "markdown",
   "metadata": {},
   "source": [
    "# Load the data"
   ]
  },
  {
   "cell_type": "code",
   "execution_count": 2,
   "metadata": {},
   "outputs": [],
   "source": [
    "#Gives Pandas dataframe and data will be mean centered because of as_frame and scaled parameter\n",
    "diabetes_x, diabetes_y = datasets.load_diabetes(return_X_y=True, as_frame=True , scaled=True) "
   ]
  },
  {
   "cell_type": "code",
   "execution_count": 8,
   "metadata": {},
   "outputs": [
    {
     "name": "stdout",
     "output_type": "stream",
     "text": [
      "Features data:\n",
      "        age       sex       bmi        bp        s1        s2        s3   \n",
      "0  0.038076  0.050680  0.061696  0.021872 -0.044223 -0.034821 -0.043401  \\\n",
      "1 -0.001882 -0.044642 -0.051474 -0.026328 -0.008449 -0.019163  0.074412   \n",
      "2  0.085299  0.050680  0.044451 -0.005670 -0.045599 -0.034194 -0.032356   \n",
      "3 -0.089063 -0.044642 -0.011595 -0.036656  0.012191  0.024991 -0.036038   \n",
      "4  0.005383 -0.044642 -0.036385  0.021872  0.003935  0.015596  0.008142   \n",
      "\n",
      "         s4        s5        s6  \n",
      "0 -0.002592  0.019907 -0.017646  \n",
      "1 -0.039493 -0.068332 -0.092204  \n",
      "2 -0.002592  0.002861 -0.025930  \n",
      "3  0.034309  0.022688 -0.009362  \n",
      "4 -0.002592 -0.031988 -0.046641  \n",
      "\n",
      "\n",
      "Target data:\n",
      "0    151.0\n",
      "1     75.0\n",
      "2    141.0\n",
      "3    206.0\n",
      "4    135.0\n",
      "Name: target, dtype: float64\n"
     ]
    }
   ],
   "source": [
    "print(f\"Features data:\\n{diabetes_x.head()}\")\n",
    "\n",
    "print(f\"\\n\\nTarget data:\\n{diabetes_y.head()}\")"
   ]
  },
  {
   "cell_type": "markdown",
   "metadata": {},
   "source": [
    "1. Get the data, and run a train-validation-test split"
   ]
  },
  {
   "cell_type": "code",
   "execution_count": 9,
   "metadata": {},
   "outputs": [],
   "source": [
    "# Splitting Data into Train, test and validation dataset\n",
    "# Train - 64% , Validation- 16% & Test-20%\n",
    "x_train, x_test, y_train, y_test = train_test_split(diabetes_x, diabetes_y, test_size=0.2, random_state=11)\n",
    "x_train, x_val, y_train, y_val = train_test_split(x_train, y_train, test_size=0.2, random_state=11) "
   ]
  },
  {
   "cell_type": "markdown",
   "metadata": {},
   "source": [
    "2. Run a multivariate linear regression on **all variables**."
   ]
  },
  {
   "cell_type": "code",
   "execution_count": 11,
   "metadata": {},
   "outputs": [
    {
     "data": {
      "text/html": [
       "<style>#sk-container-id-2 {color: black;background-color: white;}#sk-container-id-2 pre{padding: 0;}#sk-container-id-2 div.sk-toggleable {background-color: white;}#sk-container-id-2 label.sk-toggleable__label {cursor: pointer;display: block;width: 100%;margin-bottom: 0;padding: 0.3em;box-sizing: border-box;text-align: center;}#sk-container-id-2 label.sk-toggleable__label-arrow:before {content: \"▸\";float: left;margin-right: 0.25em;color: #696969;}#sk-container-id-2 label.sk-toggleable__label-arrow:hover:before {color: black;}#sk-container-id-2 div.sk-estimator:hover label.sk-toggleable__label-arrow:before {color: black;}#sk-container-id-2 div.sk-toggleable__content {max-height: 0;max-width: 0;overflow: hidden;text-align: left;background-color: #f0f8ff;}#sk-container-id-2 div.sk-toggleable__content pre {margin: 0.2em;color: black;border-radius: 0.25em;background-color: #f0f8ff;}#sk-container-id-2 input.sk-toggleable__control:checked~div.sk-toggleable__content {max-height: 200px;max-width: 100%;overflow: auto;}#sk-container-id-2 input.sk-toggleable__control:checked~label.sk-toggleable__label-arrow:before {content: \"▾\";}#sk-container-id-2 div.sk-estimator input.sk-toggleable__control:checked~label.sk-toggleable__label {background-color: #d4ebff;}#sk-container-id-2 div.sk-label input.sk-toggleable__control:checked~label.sk-toggleable__label {background-color: #d4ebff;}#sk-container-id-2 input.sk-hidden--visually {border: 0;clip: rect(1px 1px 1px 1px);clip: rect(1px, 1px, 1px, 1px);height: 1px;margin: -1px;overflow: hidden;padding: 0;position: absolute;width: 1px;}#sk-container-id-2 div.sk-estimator {font-family: monospace;background-color: #f0f8ff;border: 1px dotted black;border-radius: 0.25em;box-sizing: border-box;margin-bottom: 0.5em;}#sk-container-id-2 div.sk-estimator:hover {background-color: #d4ebff;}#sk-container-id-2 div.sk-parallel-item::after {content: \"\";width: 100%;border-bottom: 1px solid gray;flex-grow: 1;}#sk-container-id-2 div.sk-label:hover label.sk-toggleable__label {background-color: #d4ebff;}#sk-container-id-2 div.sk-serial::before {content: \"\";position: absolute;border-left: 1px solid gray;box-sizing: border-box;top: 0;bottom: 0;left: 50%;z-index: 0;}#sk-container-id-2 div.sk-serial {display: flex;flex-direction: column;align-items: center;background-color: white;padding-right: 0.2em;padding-left: 0.2em;position: relative;}#sk-container-id-2 div.sk-item {position: relative;z-index: 1;}#sk-container-id-2 div.sk-parallel {display: flex;align-items: stretch;justify-content: center;background-color: white;position: relative;}#sk-container-id-2 div.sk-item::before, #sk-container-id-2 div.sk-parallel-item::before {content: \"\";position: absolute;border-left: 1px solid gray;box-sizing: border-box;top: 0;bottom: 0;left: 50%;z-index: -1;}#sk-container-id-2 div.sk-parallel-item {display: flex;flex-direction: column;z-index: 1;position: relative;background-color: white;}#sk-container-id-2 div.sk-parallel-item:first-child::after {align-self: flex-end;width: 50%;}#sk-container-id-2 div.sk-parallel-item:last-child::after {align-self: flex-start;width: 50%;}#sk-container-id-2 div.sk-parallel-item:only-child::after {width: 0;}#sk-container-id-2 div.sk-dashed-wrapped {border: 1px dashed gray;margin: 0 0.4em 0.5em 0.4em;box-sizing: border-box;padding-bottom: 0.4em;background-color: white;}#sk-container-id-2 div.sk-label label {font-family: monospace;font-weight: bold;display: inline-block;line-height: 1.2em;}#sk-container-id-2 div.sk-label-container {text-align: center;}#sk-container-id-2 div.sk-container {/* jupyter's `normalize.less` sets `[hidden] { display: none; }` but bootstrap.min.css set `[hidden] { display: none !important; }` so we also need the `!important` here to be able to override the default hidden behavior on the sphinx rendered scikit-learn.org. See: https://github.com/scikit-learn/scikit-learn/issues/21755 */display: inline-block !important;position: relative;}#sk-container-id-2 div.sk-text-repr-fallback {display: none;}</style><div id=\"sk-container-id-2\" class=\"sk-top-container\"><div class=\"sk-text-repr-fallback\"><pre>LinearRegression()</pre><b>In a Jupyter environment, please rerun this cell to show the HTML representation or trust the notebook. <br />On GitHub, the HTML representation is unable to render, please try loading this page with nbviewer.org.</b></div><div class=\"sk-container\" hidden><div class=\"sk-item\"><div class=\"sk-estimator sk-toggleable\"><input class=\"sk-toggleable__control sk-hidden--visually\" id=\"sk-estimator-id-2\" type=\"checkbox\" checked><label for=\"sk-estimator-id-2\" class=\"sk-toggleable__label sk-toggleable__label-arrow\">LinearRegression</label><div class=\"sk-toggleable__content\"><pre>LinearRegression()</pre></div></div></div></div></div>"
      ],
      "text/plain": [
       "LinearRegression()"
      ]
     },
     "execution_count": 11,
     "metadata": {},
     "output_type": "execute_result"
    }
   ],
   "source": [
    "linear_reg_model = LinearRegression()\n",
    "linear_reg_model.fit(x_train,y_train)"
   ]
  },
  {
   "cell_type": "code",
   "execution_count": 12,
   "metadata": {},
   "outputs": [],
   "source": [
    "# Predicting Validation and testing dataset\n",
    "y_pred = linear_reg_model.predict(x_val)\n",
    "y_pred_train = linear_reg_model.predict(x_train)"
   ]
  },
  {
   "cell_type": "markdown",
   "metadata": {},
   "source": [
    "3. Run a polynomial regression of the 2nd degree on the BMI feature alone (0.5 point)"
   ]
  },
  {
   "cell_type": "code",
   "execution_count": 22,
   "metadata": {},
   "outputs": [
    {
     "data": {
      "text/html": [
       "<style>#sk-container-id-3 {color: black;background-color: white;}#sk-container-id-3 pre{padding: 0;}#sk-container-id-3 div.sk-toggleable {background-color: white;}#sk-container-id-3 label.sk-toggleable__label {cursor: pointer;display: block;width: 100%;margin-bottom: 0;padding: 0.3em;box-sizing: border-box;text-align: center;}#sk-container-id-3 label.sk-toggleable__label-arrow:before {content: \"▸\";float: left;margin-right: 0.25em;color: #696969;}#sk-container-id-3 label.sk-toggleable__label-arrow:hover:before {color: black;}#sk-container-id-3 div.sk-estimator:hover label.sk-toggleable__label-arrow:before {color: black;}#sk-container-id-3 div.sk-toggleable__content {max-height: 0;max-width: 0;overflow: hidden;text-align: left;background-color: #f0f8ff;}#sk-container-id-3 div.sk-toggleable__content pre {margin: 0.2em;color: black;border-radius: 0.25em;background-color: #f0f8ff;}#sk-container-id-3 input.sk-toggleable__control:checked~div.sk-toggleable__content {max-height: 200px;max-width: 100%;overflow: auto;}#sk-container-id-3 input.sk-toggleable__control:checked~label.sk-toggleable__label-arrow:before {content: \"▾\";}#sk-container-id-3 div.sk-estimator input.sk-toggleable__control:checked~label.sk-toggleable__label {background-color: #d4ebff;}#sk-container-id-3 div.sk-label input.sk-toggleable__control:checked~label.sk-toggleable__label {background-color: #d4ebff;}#sk-container-id-3 input.sk-hidden--visually {border: 0;clip: rect(1px 1px 1px 1px);clip: rect(1px, 1px, 1px, 1px);height: 1px;margin: -1px;overflow: hidden;padding: 0;position: absolute;width: 1px;}#sk-container-id-3 div.sk-estimator {font-family: monospace;background-color: #f0f8ff;border: 1px dotted black;border-radius: 0.25em;box-sizing: border-box;margin-bottom: 0.5em;}#sk-container-id-3 div.sk-estimator:hover {background-color: #d4ebff;}#sk-container-id-3 div.sk-parallel-item::after {content: \"\";width: 100%;border-bottom: 1px solid gray;flex-grow: 1;}#sk-container-id-3 div.sk-label:hover label.sk-toggleable__label {background-color: #d4ebff;}#sk-container-id-3 div.sk-serial::before {content: \"\";position: absolute;border-left: 1px solid gray;box-sizing: border-box;top: 0;bottom: 0;left: 50%;z-index: 0;}#sk-container-id-3 div.sk-serial {display: flex;flex-direction: column;align-items: center;background-color: white;padding-right: 0.2em;padding-left: 0.2em;position: relative;}#sk-container-id-3 div.sk-item {position: relative;z-index: 1;}#sk-container-id-3 div.sk-parallel {display: flex;align-items: stretch;justify-content: center;background-color: white;position: relative;}#sk-container-id-3 div.sk-item::before, #sk-container-id-3 div.sk-parallel-item::before {content: \"\";position: absolute;border-left: 1px solid gray;box-sizing: border-box;top: 0;bottom: 0;left: 50%;z-index: -1;}#sk-container-id-3 div.sk-parallel-item {display: flex;flex-direction: column;z-index: 1;position: relative;background-color: white;}#sk-container-id-3 div.sk-parallel-item:first-child::after {align-self: flex-end;width: 50%;}#sk-container-id-3 div.sk-parallel-item:last-child::after {align-self: flex-start;width: 50%;}#sk-container-id-3 div.sk-parallel-item:only-child::after {width: 0;}#sk-container-id-3 div.sk-dashed-wrapped {border: 1px dashed gray;margin: 0 0.4em 0.5em 0.4em;box-sizing: border-box;padding-bottom: 0.4em;background-color: white;}#sk-container-id-3 div.sk-label label {font-family: monospace;font-weight: bold;display: inline-block;line-height: 1.2em;}#sk-container-id-3 div.sk-label-container {text-align: center;}#sk-container-id-3 div.sk-container {/* jupyter's `normalize.less` sets `[hidden] { display: none; }` but bootstrap.min.css set `[hidden] { display: none !important; }` so we also need the `!important` here to be able to override the default hidden behavior on the sphinx rendered scikit-learn.org. See: https://github.com/scikit-learn/scikit-learn/issues/21755 */display: inline-block !important;position: relative;}#sk-container-id-3 div.sk-text-repr-fallback {display: none;}</style><div id=\"sk-container-id-3\" class=\"sk-top-container\"><div class=\"sk-text-repr-fallback\"><pre>LinearRegression()</pre><b>In a Jupyter environment, please rerun this cell to show the HTML representation or trust the notebook. <br />On GitHub, the HTML representation is unable to render, please try loading this page with nbviewer.org.</b></div><div class=\"sk-container\" hidden><div class=\"sk-item\"><div class=\"sk-estimator sk-toggleable\"><input class=\"sk-toggleable__control sk-hidden--visually\" id=\"sk-estimator-id-3\" type=\"checkbox\" checked><label for=\"sk-estimator-id-3\" class=\"sk-toggleable__label sk-toggleable__label-arrow\">LinearRegression</label><div class=\"sk-toggleable__content\"><pre>LinearRegression()</pre></div></div></div></div></div>"
      ],
      "text/plain": [
       "LinearRegression()"
      ]
     },
     "execution_count": 22,
     "metadata": {},
     "output_type": "execute_result"
    }
   ],
   "source": [
    "# Multivariate Linear Regression\n",
    "linear_model = LinearRegression()\n",
    "linear_model.fit(x_train, y_train)\n",
    "\n",
    "# Polynomial Regression of 2nd Degree on BMI feature only\n",
    "polynomial_bmi = PolynomialFeatures(degree=2, include_bias=False)\n",
    "polynomial_x_bmi = polynomial_bmi.fit_transform(x_train['bmi'].values.reshape(-1, 1))\n",
    "\n",
    "poly_model_bmi = LinearRegression()\n",
    "poly_model_bmi.fit(polynomial_x_bmi, y_train)"
   ]
  },
  {
   "cell_type": "markdown",
   "metadata": {},
   "source": [
    "4. Run a multivariate polynomial regression of the 2nd degree on all variable"
   ]
  },
  {
   "cell_type": "code",
   "execution_count": 21,
   "metadata": {},
   "outputs": [
    {
     "name": "stdout",
     "output_type": "stream",
     "text": [
      "(282, 10)\n"
     ]
    },
    {
     "data": {
      "text/plain": [
       "(282, 65)"
      ]
     },
     "execution_count": 21,
     "metadata": {},
     "output_type": "execute_result"
    }
   ],
   "source": [
    "# Multivariate Polynomial Regression of 2nd Degree\n",
    "poly_features = PolynomialFeatures(degree=2, include_bias=False)\n",
    "\n",
    "print(x_train.shape) #just to see number of columns\n",
    "X_poly = poly_features.fit_transform(x_train)\n",
    "\n",
    "polynomial_model = LinearRegression()\n",
    "polynomial_model.fit(X_poly, y_train)\n",
    "\n",
    "X_poly.shape #just to see number of columns"
   ]
  },
  {
   "cell_type": "markdown",
   "metadata": {},
   "source": [
    "5. Compare the three models by looking at R-squared, MAPE and MAE."
   ]
  },
  {
   "cell_type": "code",
   "execution_count": 27,
   "metadata": {},
   "outputs": [
    {
     "name": "stdout",
     "output_type": "stream",
     "text": [
      "Multivariate Linear Regression:\n",
      "R-squared: 0.3241623506891982\n",
      "MAE: 45.852787214733766\n",
      "MAPE: 0.3064782153433563\n",
      "\n",
      "Polynomial Regression of 2nd Degree on BMI Feature only:\n",
      "R-squared: 0.05146125485402109\n",
      "MAE: 56.861296399306184\n",
      "MAPE: 0.4057919866657318\n",
      "\n",
      "Multivariate Polynomial Regression of 2nd Degree:\n",
      "R-squared: -0.0356104365031098\n",
      "MAE: 56.01745647107289\n",
      "MAPE: 0.37449147828434326\n"
     ]
    }
   ],
   "source": [
    "# Model Evaluation for 3 above models:\n",
    "def evaluate_model(model, X, y):\n",
    "    y_pred = model.predict(X)\n",
    "    r2 = r2_score(y, y_pred)\n",
    "    mae = mean_absolute_error(y, y_pred)\n",
    "    mape = mean_absolute_percentage_error(y, y_pred)\n",
    "    return r2, mae, mape\n",
    "\n",
    "linear_reg_r2, linear_reg_mae, linear_reg_mape = evaluate_model(linear_model, x_val, y_val)\n",
    "poly_bmi_r2, poly_bmi_mae, poly_bmi_mape = evaluate_model(poly_model_bmi, polynomial_bmi.transform(x_val['bmi'].values.reshape(-1, 1)), y_val)\n",
    "poly_r2, poly_mae, poly_mape = evaluate_model(polynomial_model, poly_features.transform(x_val), y_val)\n",
    "\n",
    "# Printing the results\n",
    "print(\"Multivariate Linear Regression:\")\n",
    "print(f\"R-squared: {linear_reg_r2}\\nMAE: {linear_reg_mae}\\nMAPE: {linear_reg_mape}\")\n",
    "\n",
    "print(\"\\nPolynomial Regression of 2nd Degree on BMI Feature only:\")\n",
    "print(f\"R-squared: {poly_bmi_r2}\\nMAE: {poly_bmi_mae}\\nMAPE: {poly_bmi_mape}\")\n",
    "\n",
    "print(\"\\nMultivariate Polynomial Regression of 2nd Degree:\")\n",
    "print(f\"R-squared: {poly_r2}\\nMAE: {poly_mae}\\nMAPE: {poly_mape}\")"
   ]
  },
  {
   "cell_type": "code",
   "execution_count": 29,
   "metadata": {},
   "outputs": [
    {
     "name": "stdout",
     "output_type": "stream",
     "text": [
      "\n",
      "Test Set Performance:\n",
      "Multivariate Linear Regression:\n",
      "R-squared: 0.5771966430203916, MAE: 44.94023994493516, MAPE: 0.4123041459080287\n",
      "\n",
      "Polynomial Regression of 2nd Degree on BMI:\n",
      "R-squared: 0.41604702184212794, MAE: 54.329755135292864, MAPE: 0.49770996673603357\n",
      "\n",
      "Multivariate Polynomial Regression of 2nd Degree:\n",
      "R-squared: 0.46957190783365366, MAE: 48.77111912087303, MAPE: 0.44685421413697907\n",
      "\n",
      "Insights:\n",
      "R-squared values:\n",
      "Multivariate Linear Regression R-squared: 0.5771966430203916\n",
      "Polynomial Regression of 2nd Degree on BMI R-squared: 0.41604702184212794\n",
      "Multivariate Polynomial Regression of 2nd Degree R-squared: 0.46957190783365366\n",
      "\n",
      "Mean Absolute Error (MAE):\n",
      "Multivariate Linear Regression MAE: 44.94023994493516\n",
      "Polynomial Regression of 2nd Degree on BMI MAE: 54.329755135292864\n",
      "Multivariate Polynomial Regression of 2nd Degree MAE: 48.77111912087303\n",
      "\n",
      "Mean Absolute Percentage Error (MAPE):\n",
      "Multivariate Linear Regression MAPE: 0.4123041459080287\n",
      "Polynomial Regression of 2nd Degree on BMI MAPE: 0.49770996673603357\n",
      "Multivariate Polynomial Regression of 2nd Degree MAPE: 0.44685421413697907\n"
     ]
    }
   ],
   "source": [
    "# Testing data\n",
    "\n",
    "linear_test_r2, linear_test_mae, linear_test_mape = evaluate_model(linear_model, x_test, y_test)\n",
    "poly_bmi_test_r2, poly_bmi_test_mae, poly_bmi_test_mape = evaluate_model(poly_model_bmi, polynomial_bmi.transform(x_test['bmi'].values.reshape(-1, 1)), y_test)\n",
    "poly_test_r2, poly_test_mae, poly_test_mape = evaluate_model(polynomial_model, poly_features.transform(x_test), y_test)\n",
    "\n",
    "print(\"\\nTest Set Performance:\")\n",
    "\n",
    "print(\"Multivariate Linear Regression:\")\n",
    "print(f\"R-squared: {linear_test_r2}, MAE: {linear_test_mae}, MAPE: {linear_test_mape}\")\n",
    "\n",
    "print(\"\\nPolynomial Regression of 2nd Degree on BMI:\")\n",
    "print(f\"R-squared: {poly_bmi_test_r2}, MAE: {poly_bmi_test_mae}, MAPE: {poly_bmi_test_mape}\")\n",
    "\n",
    "print(\"\\nMultivariate Polynomial Regression of 2nd Degree:\")\n",
    "print(f\"R-squared: {poly_test_r2}, MAE: {poly_test_mae}, MAPE: {poly_test_mape}\")\n",
    "\n",
    "# Insights and Comparison\n",
    "# Let's compare the models based on their performance\n",
    "\n",
    "# R-squared values\n",
    "print(\"\\nInsights:\")\n",
    "print(\"R-squared values:\")\n",
    "print(f\"Multivariate Linear Regression R-squared: {linear_test_r2}\")\n",
    "print(f\"Polynomial Regression of 2nd Degree on BMI R-squared: {poly_bmi_test_r2}\")\n",
    "print(f\"Multivariate Polynomial Regression of 2nd Degree R-squared: {poly_test_r2}\")\n",
    "\n",
    "# MAE values\n",
    "print(\"\\nMean Absolute Error (MAE):\")\n",
    "print(f\"Multivariate Linear Regression MAE: {linear_test_mae}\")\n",
    "print(f\"Polynomial Regression of 2nd Degree on BMI MAE: {poly_bmi_test_mae}\")\n",
    "print(f\"Multivariate Polynomial Regression of 2nd Degree MAE: {poly_test_mae}\")\n",
    "\n",
    "# MAPE values\n",
    "print(\"\\nMean Absolute Percentage Error (MAPE):\")\n",
    "print(f\"Multivariate Linear Regression MAPE: {linear_test_mape}\")\n",
    "print(f\"Polynomial Regression of 2nd Degree on BMI MAPE: {poly_bmi_test_mape}\")\n",
    "print(f\"Multivariate Polynomial Regression of 2nd Degree MAPE: {poly_test_mape}\")\n"
   ]
  },
  {
   "cell_type": "markdown",
   "metadata": {},
   "source": [
    "## Summarized Insights:\n",
    "\n",
    "- The Multivariate Linear Regression model performs the best with the highest R-squared, lowest MAE, and lowest MAPE values.\n",
    "- The Multivariate Polynomial Regression of 2nd Degree also provides reasonably good performance, falling between the other two models in terms of R-squared and MAE.\n",
    "- The Polynomial Regression of 2nd Degree on BMI performs the worst among the three models, with lower R-squared and higher MAE and MAPE values, indicating less accurate predictions."
   ]
  },
  {
   "cell_type": "markdown",
   "metadata": {},
   "source": [
    "# Q1] How many parameters are we fitting for each of the three models?"
   ]
  },
  {
   "cell_type": "code",
   "execution_count": 43,
   "metadata": {},
   "outputs": [
    {
     "name": "stdout",
     "output_type": "stream",
     "text": [
      "Parameters in Linear Regression of all variables: 11\n",
      "Parameters in Polynomial Regression of 2nd Degree on BMI: 3\n",
      "Parameters in Multivariate Polynomial Regression of 2nd Degree: 66\n"
     ]
    }
   ],
   "source": [
    "print(f\"Parameters in Linear Regression of all variables: {len(linear_reg_model.coef_) + 1}\")\n",
    "print(f\"Parameters in Polynomial Regression of 2nd Degree on BMI: {len(polynomial_bmi.get_feature_names_out())+1}\")\n",
    "print(f\"Parameters in Multivariate Polynomial Regression of 2nd Degree: {len(poly_features.get_feature_names_out())+1}\")"
   ]
  },
  {
   "cell_type": "markdown",
   "metadata": {},
   "source": [
    "# Q2] Which model would you choose for deployment, and why?\n",
    "- I will choose Multivariate Linear Regression.\n",
    "- Multivariate Linear Regression is a valuable choice when dealing with data that does follow a simple linear pattern.\n",
    "  - It has the highest R-squared value (0.4506), indicating that it explains more of the variance in the target variable compared to the other models.\n",
    "\n",
    "- It excels in capturing more complex, non-linear relationships, providing greater flexibility in modeling. If a basic linear model doesn't adequately fit your data and you seek a better match, the Multivariate Polynomial Regression can offer improved accuracy. \n",
    "   - The Multivariate Linear Regression has the lowest MAPE (36.83), indicating that, on average, its predictions are closest to the actual values. \n"
   ]
  }
 ],
 "metadata": {
  "kernelspec": {
   "display_name": "CSCN8010_classic_ml",
   "language": "python",
   "name": "cscn8010_classic_ml"
  },
  "language_info": {
   "codemirror_mode": {
    "name": "ipython",
    "version": 3
   },
   "file_extension": ".py",
   "mimetype": "text/x-python",
   "name": "python",
   "nbconvert_exporter": "python",
   "pygments_lexer": "ipython3",
   "version": "3.11.5"
  }
 },
 "nbformat": 4,
 "nbformat_minor": 2
}
